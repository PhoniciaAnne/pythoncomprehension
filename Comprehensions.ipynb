{
  "nbformat": 4,
  "nbformat_minor": 0,
  "metadata": {
    "colab": {
      "provenance": [],
      "authorship_tag": "ABX9TyODtzbFhsFNb7rN+x0rn/Zj",
      "include_colab_link": true
    },
    "kernelspec": {
      "name": "python3",
      "display_name": "Python 3"
    },
    "language_info": {
      "name": "python"
    }
  },
  "cells": [
    {
      "cell_type": "markdown",
      "metadata": {
        "id": "view-in-github",
        "colab_type": "text"
      },
      "source": [
        "<a href=\"https://colab.research.google.com/github/PhoniciaAnne/pythoncomprehension/blob/main/Comprehensions.ipynb\" target=\"_parent\"><img src=\"https://colab.research.google.com/assets/colab-badge.svg\" alt=\"Open In Colab\"/></a>"
      ]
    },
    {
      "cell_type": "code",
      "execution_count": null,
      "metadata": {
        "colab": {
          "base_uri": "https://localhost:8080/"
        },
        "id": "xBnn7gWSh8Hz",
        "outputId": "b902b0f1-ba2c-45d3-a6d0-359731728e7b"
      },
      "outputs": [
        {
          "output_type": "stream",
          "name": "stdout",
          "text": [
            "[1, 2, 3, 4, 5, 6, 7]\n"
          ]
        }
      ],
      "source": [
        "num = [1,2,3,4,5,6,7]\n",
        "new_nums =[n for n in num]\n",
        "print(new_nums)"
      ]
    },
    {
      "cell_type": "code",
      "source": [
        "num = [10,20,30,40,50]\n",
        "mul = [a*a for a in num]\n",
        "print(mul)"
      ],
      "metadata": {
        "colab": {
          "base_uri": "https://localhost:8080/"
        },
        "id": "BZz5CvjViVZ5",
        "outputId": "d3b3f35c-75e9-4da1-9044-6e1e47128f69"
      },
      "execution_count": null,
      "outputs": [
        {
          "output_type": "stream",
          "name": "stdout",
          "text": [
            "[100, 400, 900, 1600, 2500]\n"
          ]
        }
      ]
    },
    {
      "cell_type": "code",
      "source": [
        "# maps+lambda\n",
        "nums = [2,5,8,9]\n",
        "m_list = list(map(lambda a:a*a,nums))\n",
        "print(m_list)"
      ],
      "metadata": {
        "colab": {
          "base_uri": "https://localhost:8080/"
        },
        "id": "xc7r2imSiffE",
        "outputId": "c0bca4fa-44ca-4c2d-f233-1812d085f444"
      },
      "execution_count": null,
      "outputs": [
        {
          "output_type": "stream",
          "name": "stdout",
          "text": [
            "[4, 25, 64, 81]\n"
          ]
        }
      ]
    },
    {
      "cell_type": "code",
      "source": [
        "my_list = [n for n in num if n%2 == 0]\n",
        "print(my_list)"
      ],
      "metadata": {
        "id": "6_w9PIm6nYOW",
        "colab": {
          "base_uri": "https://localhost:8080/"
        },
        "outputId": "257236e3-4b9f-4067-fb2f-f3cd27f03533"
      },
      "execution_count": null,
      "outputs": [
        {
          "output_type": "stream",
          "name": "stdout",
          "text": [
            "[10, 20, 30, 40, 50]\n"
          ]
        }
      ]
    },
    {
      "cell_type": "code",
      "source": [
        "my_list = [(letter,num) for letter in \"abcd\" for num in range(5)]\n",
        "print(my_list)"
      ],
      "metadata": {
        "colab": {
          "base_uri": "https://localhost:8080/"
        },
        "id": "LGeVB07_qmN-",
        "outputId": "2f966375-47ad-4139-bc6c-62a210df7b02"
      },
      "execution_count": null,
      "outputs": [
        {
          "output_type": "stream",
          "name": "stdout",
          "text": [
            "[('a', 0), ('a', 1), ('a', 2), ('a', 3), ('a', 4), ('b', 0), ('b', 1), ('b', 2), ('b', 3), ('b', 4), ('c', 0), ('c', 1), ('c', 2), ('c', 3), ('c', 4), ('d', 0), ('d', 1), ('d', 2), ('d', 3), ('d', 4)]\n"
          ]
        }
      ]
    },
    {
      "cell_type": "code",
      "source": [
        "name = ['A','B','C','D']\n",
        "num = ['a','b','c','d']\n",
        "a = print(list(zip(name,num)))\n"
      ],
      "metadata": {
        "colab": {
          "base_uri": "https://localhost:8080/"
        },
        "id": "Njqa1mp0sY-F",
        "outputId": "89799d17-34e1-4e6a-c87d-4d487a2ef3a1"
      },
      "execution_count": null,
      "outputs": [
        {
          "output_type": "stream",
          "name": "stdout",
          "text": [
            "[('A', 'a'), ('B', 'b'), ('C', 'c'), ('D', 'd')]\n"
          ]
        }
      ]
    },
    {
      "cell_type": "code",
      "source": [
        "my_dict = {name:num for name,num in zip(name,num) if name == 'A'}"
      ],
      "metadata": {
        "id": "7qpXJfnRs7nx"
      },
      "execution_count": null,
      "outputs": []
    },
    {
      "cell_type": "code",
      "source": [
        "my_dict\n"
      ],
      "metadata": {
        "colab": {
          "base_uri": "https://localhost:8080/"
        },
        "id": "LhfCdzUU7xtm",
        "outputId": "d686689b-1d25-4717-dc63-ad397e730f88"
      },
      "execution_count": null,
      "outputs": [
        {
          "output_type": "execute_result",
          "data": {
            "text/plain": [
              "{'A': 'a'}"
            ]
          },
          "metadata": {},
          "execution_count": 15
        }
      ]
    },
    {
      "cell_type": "code",
      "source": [
        "#set\n",
        "set = {1,2,3,3,4}\n",
        "sets = {n for n in set}\n",
        "print(sets)"
      ],
      "metadata": {
        "colab": {
          "base_uri": "https://localhost:8080/"
        },
        "id": "JMY9eUl97z6F",
        "outputId": "4894a603-31de-413d-b01b-0ec931eda174"
      },
      "execution_count": null,
      "outputs": [
        {
          "output_type": "stream",
          "name": "stdout",
          "text": [
            "{1, 2, 3, 4}\n"
          ]
        }
      ]
    },
    {
      "cell_type": "code",
      "source": [
        "#generator function\n",
        "gen = [1,5,8,6]\n",
        "my_gen = list((n*n for n in gen))"
      ],
      "metadata": {
        "id": "tOunY6ua9JK1"
      },
      "execution_count": null,
      "outputs": []
    },
    {
      "cell_type": "code",
      "source": [
        "my_gen"
      ],
      "metadata": {
        "colab": {
          "base_uri": "https://localhost:8080/"
        },
        "id": "5JcCtCfk_We0",
        "outputId": "f8e806a6-c80d-4e1f-cb92-85a3cf9c7c65"
      },
      "execution_count": null,
      "outputs": [
        {
          "output_type": "execute_result",
          "data": {
            "text/plain": [
              "[1, 25, 64, 36]"
            ]
          },
          "metadata": {},
          "execution_count": 23
        }
      ]
    },
    {
      "cell_type": "code",
      "source": [
        "lis1 = [1,2,3]\n",
        "lis2 = [4,5,6]"
      ],
      "metadata": {
        "id": "sQUIP7VMGogA"
      },
      "execution_count": null,
      "outputs": []
    },
    {
      "cell_type": "code",
      "source": [
        "list(map(lambda x : sum(x),(lis1,lis2)))"
      ],
      "metadata": {
        "id": "Za5TKuob_cNU",
        "colab": {
          "base_uri": "https://localhost:8080/"
        },
        "outputId": "a8010611-0b15-4f3a-e842-c69f05f1a77c"
      },
      "execution_count": null,
      "outputs": [
        {
          "output_type": "execute_result",
          "data": {
            "text/plain": [
              "[6, 15]"
            ]
          },
          "metadata": {},
          "execution_count": 32
        }
      ]
    },
    {
      "cell_type": "code",
      "source": [
        "for it in zip(lis1,lis2):\n",
        "  print(it)"
      ],
      "metadata": {
        "colab": {
          "base_uri": "https://localhost:8080/"
        },
        "id": "6rcsFrpDHR3Y",
        "outputId": "c33efc56-9f7c-4841-a120-2acbe4846941"
      },
      "execution_count": null,
      "outputs": [
        {
          "output_type": "stream",
          "name": "stdout",
          "text": [
            "(1, 4)\n",
            "(2, 5)\n",
            "(3, 6)\n"
          ]
        }
      ]
    }
  ]
}